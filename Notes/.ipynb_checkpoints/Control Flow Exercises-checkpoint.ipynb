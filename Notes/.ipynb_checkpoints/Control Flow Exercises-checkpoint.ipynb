{
 "cells": [
  {
   "cell_type": "code",
   "execution_count": null,
   "id": "d3d3ce95",
   "metadata": {},
   "outputs": [],
   "source": [
    "import random\n",
    "target_num, guess_num = random.randint(1, 10), 0\n",
    "while target_num != guess_num:\n",
    "    guess_num = int(input('Guess a number between 1 and 10 until you get it right : '))\n",
    "print('Well guessed!')"
   ]
  },
  {
   "cell_type": "code",
   "execution_count": null,
   "id": "edaef19a",
   "metadata": {},
   "outputs": [],
   "source": [
    "import re\n",
    "p= input(\"Input your password\")\n",
    "x = True\n",
    "while x:  \n",
    "    if (len(p)<6 or len(p)>12):\n",
    "        break\n",
    "    elif not re.search(\"[a-z]\",p):\n",
    "        break\n",
    "    elif not re.search(\"[0-9]\",p):\n",
    "        break\n",
    "    elif not re.search(\"[A-Z]\",p):\n",
    "        break\n",
    "    elif not re.search(\"[$#@]\",p):\n",
    "        break\n",
    "    elif re.search(\"\\s\",p):\n",
    "        break\n",
    "    else:\n",
    "        print(\"Valid Password\")\n",
    "        x=False\n",
    "        break\n",
    "\n",
    "if x:\n",
    "    print(\"Not a Valid Password\")"
   ]
  },
  {
   "cell_type": "code",
   "execution_count": null,
   "id": "de1fe52e",
   "metadata": {},
   "outputs": [],
   "source": [
    "e1=int(input('enter age1: '))\n",
    "age2=int(input('enter age2: '))\n",
    "age3=int(input('enter age3: '))\n",
    "if age1>age2 and age1>age3:\n",
    "    print('age1 is oldest')\n",
    "elif age2>age1 and age2>age3:\n",
    "    print('age2 is oldest')\n",
    "else:\n",
    "    print('age3 is oldest')\n",
    "if age1<age2 and age1<age3:\n",
    "    print('age1 is youngest')\n",
    "elif age2<age1 and age2<age3:\n",
    "    print('age2 is youngest')\n",
    "else:\n",
    "     print('age3 is youngest')\n"
   ]
  },
  {
   "cell_type": "code",
   "execution_count": null,
   "id": "0a13239b",
   "metadata": {},
   "outputs": [],
   "source": [
    "a=int(input(\"Number of classes held:\"))\n",
    "\n",
    "b=int(input(\"Number of classes attended:\"))\n",
    "\n",
    "percentage=b/a*100\n",
    "\n",
    "if percentage>=75:\n",
    "\n",
    "        print(\"The student is allowed to sit in the exam hall\")\n",
    "\n",
    "else:\n",
    "\n",
    "        print(\"The student is not allowed to sit in the exam hall\")"
   ]
  },
  {
   "cell_type": "code",
   "execution_count": null,
   "id": "59898f73",
   "metadata": {},
   "outputs": [],
   "source": [
    "N = int(raw_input().strip())\n",
    "\n",
    "if N % 2 != 0:\n",
    "    print \"Weird\"\n",
    "else:\n",
    "    if N >= 2 and N <= 5:\n",
    "        print \"Not Weird\"\n",
    "    elif N >= 6 and N <= 20:\n",
    "        print \"Weird\"\n",
    "    elif N > 20:\n",
    "        print \"Not Weird\""
   ]
  },
  {
   "cell_type": "code",
   "execution_count": null,
   "id": "69a6736c",
   "metadata": {},
   "outputs": [],
   "source": []
  }
 ],
 "metadata": {
  "kernelspec": {
   "display_name": "Python 3 (ipykernel)",
   "language": "python",
   "name": "python3"
  },
  "language_info": {
   "codemirror_mode": {
    "name": "ipython",
    "version": 3
   },
   "file_extension": ".py",
   "mimetype": "text/x-python",
   "name": "python",
   "nbconvert_exporter": "python",
   "pygments_lexer": "ipython3",
   "version": "3.9.13"
  }
 },
 "nbformat": 4,
 "nbformat_minor": 5
}
