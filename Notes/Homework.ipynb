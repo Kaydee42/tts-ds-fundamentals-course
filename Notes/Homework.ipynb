{
 "cells": [
  {
   "cell_type": "code",
   "execution_count": null,
   "id": "e80322e9",
   "metadata": {},
   "outputs": [],
   "source": [
    "#The four pillars of OOP (Object Oriented Programming)\n",
    "\"\"\"\n",
    "Object Oriented Programming - Relating our code to a real world object or concept.\n",
    "Abstraction - The full functionality is hidden from the end user.\n",
    "Encapsulation - The ability to capture and consolidate the code for a certain object in one place.\n",
    "Polymorphism - The ability for an object to take on many forms.\n",
    "Inheritance - (Parent/Child relationships) (Super class/subclass relationships)\n",
    "\"\"\""
   ]
  },
  {
   "cell_type": "code",
   "execution_count": 2,
   "id": "0eedde85",
   "metadata": {},
   "outputs": [],
   "source": [
    "#Classes\n",
    "#Class - A Class is a template for an object aka a blueprint for an object.\n",
    "#Attributes/Variable - Classes can have attributes (for a person) ex. Height, Weight, Hair Color, Eye Color, Occupation etc\n",
    "#Methods - These are functions that are associated with an class/object\n",
    "#Instance aka Object aka Instantiation of a class\n",
    "\n",
    "class Grocery_Store: #class <Name_of_Class>\n",
    "    def __init__(self, name, number_of_registers, square_footage, number_of_aisles, number_of_employees): #Constructor\n",
    "        #Instance/Object Attributes - Instance Attributes are established at the instance level\n",
    "        self.name = name\n",
    "        self.number_of_registers = number_of_registers\n",
    "        self.square_footage = square_footage\n",
    "        self.number_of_aisles = number_of_aisles\n",
    "        self.number_of_employees = number_of_employees\n",
    "        #Class Attributes - Class Attributes are established at the Class level\n",
    "        self.store_hours = \"24/7\"\n",
    "        #Methods -Functions that are associated with OOP.\n",
    "    def hire_employees(self): \n",
    "        number_of_employees_hired = int(input(\"How many employees did you hire? \"))\n",
    "        #self.number_of_employees = self.number_of_employees + number_of_employees_hired\n",
    "        self.number_of_employees += number_of_employees_hired\n",
    "    def fire_employees(self):\n",
    "        number_of_employees_fired = int(input(\"How many employees did you fire? \"))\n",
    "        self.number_of_employees -= number_of_employees_fired\n",
    "           "
   ]
  },
  {
   "cell_type": "code",
   "execution_count": 3,
   "id": "693ec54c",
   "metadata": {},
   "outputs": [],
   "source": [
    "#Instatiate and object/Instantiation/Create an Object from a Class\n",
    "# <name_of_object> = <Name_of_Class>(attr_1, attr_2, attr_3, etc.)\n",
    "win_co = Grocery_Store(\"Winco\", 6, 1200, 12, 20)\n",
    "win_co_2 = Grocery_Store(24, 7, \"Twelve Hundred\", \"Twelve\", \"Twenty\")"
   ]
  },
  {
   "cell_type": "code",
   "execution_count": 4,
   "id": "8f550dfe",
   "metadata": {},
   "outputs": [
    {
     "data": {
      "text/plain": [
       "20"
      ]
     },
     "execution_count": 4,
     "metadata": {},
     "output_type": "execute_result"
    }
   ],
   "source": [
    "win_co.number_of_employees"
   ]
  },
  {
   "cell_type": "code",
   "execution_count": 5,
   "id": "2cf43073",
   "metadata": {},
   "outputs": [
    {
     "name": "stdout",
     "output_type": "stream",
     "text": [
      "How many employees did you hire? 100\n"
     ]
    }
   ],
   "source": [
    "win_co.hire_employees()"
   ]
  },
  {
   "cell_type": "code",
   "execution_count": 6,
   "id": "db3fe29a",
   "metadata": {},
   "outputs": [
    {
     "data": {
      "text/plain": [
       "120"
      ]
     },
     "execution_count": 6,
     "metadata": {},
     "output_type": "execute_result"
    }
   ],
   "source": [
    "win_co.number_of_employees"
   ]
  },
  {
   "cell_type": "code",
   "execution_count": null,
   "id": "b8b78d02",
   "metadata": {},
   "outputs": [],
   "source": []
  }
 ],
 "metadata": {
  "kernelspec": {
   "display_name": "Python 3 (ipykernel)",
   "language": "python",
   "name": "python3"
  },
  "language_info": {
   "codemirror_mode": {
    "name": "ipython",
    "version": 3
   },
   "file_extension": ".py",
   "mimetype": "text/x-python",
   "name": "python",
   "nbconvert_exporter": "python",
   "pygments_lexer": "ipython3",
   "version": "3.9.13"
  }
 },
 "nbformat": 4,
 "nbformat_minor": 5
}
