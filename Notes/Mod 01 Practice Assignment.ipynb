{
 "cells": [
  {
   "cell_type": "code",
   "execution_count": 2,
   "id": "1487d14c",
   "metadata": {},
   "outputs": [
    {
     "name": "stdout",
     "output_type": "stream",
     "text": [
      "Wilson Kimberly\n"
     ]
    }
   ],
   "source": [
    "firstname = \"Kimberly\"\n",
    "lastname = \"Wilson\"\n",
    "print(lastname +\" \" + firstname)"
   ]
  },
  {
   "cell_type": "code",
   "execution_count": 1,
   "id": "a359770a",
   "metadata": {},
   "outputs": [
    {
     "name": "stdout",
     "output_type": "stream",
     "text": [
      "Input an integer : 4\n",
      "492\n"
     ]
    }
   ],
   "source": [
    "a = int(input(\"Input an integer : \"))\n",
    "n1 = int( \"%s\" % a )\n",
    "n2 = int( \"%s%s\" % (a,a) )\n",
    "n3 = int( \"%s%s%s\" % (a,a,a) )\n",
    "print (n1+n2+n3)"
   ]
  },
  {
   "cell_type": "code",
   "execution_count": 2,
   "id": "9746d766",
   "metadata": {},
   "outputs": [],
   "source": [
    "x = 10\n",
    "y = 50\n",
    "if x ** 2 > 100 and y < 100:\n",
    "    print(x, y)"
   ]
  },
  {
   "cell_type": "code",
   "execution_count": 3,
   "id": "85281a3e",
   "metadata": {},
   "outputs": [
    {
     "name": "stdout",
     "output_type": "stream",
     "text": [
      "[10, 20, 30, 40]\n",
      "[10, 20, 30, 40]\n"
     ]
    }
   ],
   "source": [
    "a = [10, 20]\n",
    "b = a\n",
    "b += [30, 40]\n",
    "print(a)\n",
    "print(b)"
   ]
  },
  {
   "cell_type": "code",
   "execution_count": 4,
   "id": "3bc53176",
   "metadata": {},
   "outputs": [
    {
     "name": "stdout",
     "output_type": "stream",
     "text": [
      "2\n"
     ]
    }
   ],
   "source": [
    "print(2%6)"
   ]
  },
  {
   "cell_type": "code",
   "execution_count": 5,
   "id": "d5a9519f",
   "metadata": {},
   "outputs": [
    {
     "name": "stdout",
     "output_type": "stream",
     "text": [
      "216\n"
     ]
    }
   ],
   "source": [
    "print(2 * 3 ** 3 * 4)"
   ]
  },
  {
   "cell_type": "code",
   "execution_count": 6,
   "id": "584892e6",
   "metadata": {},
   "outputs": [],
   "source": [
    "#A type editor is a type of computer program that edits plain text"
   ]
  },
  {
   "cell_type": "code",
   "execution_count": 8,
   "id": "c2c44eb0",
   "metadata": {},
   "outputs": [],
   "source": [
    "#Python is an interpreted, object-oriented, high-level programming language with dynamic semantic"
   ]
  },
  {
   "cell_type": "code",
   "execution_count": null,
   "id": "249988a1",
   "metadata": {},
   "outputs": [],
   "source": [
    "# Jupyter Notebook is a web-based interactive computing platform. "
   ]
  }
 ],
 "metadata": {
  "kernelspec": {
   "display_name": "Python 3 (ipykernel)",
   "language": "python",
   "name": "python3"
  },
  "language_info": {
   "codemirror_mode": {
    "name": "ipython",
    "version": 3
   },
   "file_extension": ".py",
   "mimetype": "text/x-python",
   "name": "python",
   "nbconvert_exporter": "python",
   "pygments_lexer": "ipython3",
   "version": "3.9.13"
  }
 },
 "nbformat": 4,
 "nbformat_minor": 5
}
