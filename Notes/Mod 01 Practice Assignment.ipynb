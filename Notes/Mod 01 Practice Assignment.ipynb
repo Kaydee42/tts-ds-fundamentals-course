{
 "cells": [
  {
   "cell_type": "code",
   "execution_count": 1,
   "id": "dbc790d8",
   "metadata": {},
   "outputs": [],
   "source": [
    "#Accept the user's first and last name and print them in reverse order with a space between them"
   ]
  },
  {
   "cell_type": "code",
   "execution_count": null,
   "id": "c941dd0b",
   "metadata": {},
   "outputs": [],
   "source": [
    "#Accept an integer (n) input from the user nad compute the calue of n+nn+nnn. \n",
    "#For example if n=4 then n+nn+nnn = 4 + 44 + 444 = 492"
   ]
  }
 ],
 "metadata": {
  "kernelspec": {
   "display_name": "Python 3 (ipykernel)",
   "language": "python",
   "name": "python3"
  },
  "language_info": {
   "codemirror_mode": {
    "name": "ipython",
    "version": 3
   },
   "file_extension": ".py",
   "mimetype": "text/x-python",
   "name": "python",
   "nbconvert_exporter": "python",
   "pygments_lexer": "ipython3",
   "version": "3.9.13"
  }
 },
 "nbformat": 4,
 "nbformat_minor": 5
}
