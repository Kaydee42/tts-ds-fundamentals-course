{
 "cells": [
  {
   "cell_type": "code",
   "execution_count": 1,
   "id": "8579f05d",
   "metadata": {},
   "outputs": [],
   "source": [
    "#Control Flow"
   ]
  },
  {
   "cell_type": "code",
   "execution_count": 1,
   "id": "96a119d8",
   "metadata": {},
   "outputs": [
    {
     "name": "stdout",
     "output_type": "stream",
     "text": [
      "Var_1 is greater than Var_2\n"
     ]
    }
   ],
   "source": [
    "var_1 = 45\n",
    "var_2 = 4.5\n",
    "# if statements only execute the underlying code if the statement is true.\n",
    "if var_1 > var_2:\n",
    "    print(\"Var_1 is greater than Var_2\")\n",
    "    if var_2 > var_1:\n",
    "        print(\"Var_2 is greater than Var_1\")"
   ]
  },
  {
   "cell_type": "code",
   "execution_count": 2,
   "id": "9f3076da",
   "metadata": {},
   "outputs": [
    {
     "ename": "NameError",
     "evalue": "name 'x' is not defined",
     "output_type": "error",
     "traceback": [
      "\u001b[1;31m---------------------------------------------------------------------------\u001b[0m",
      "\u001b[1;31mNameError\u001b[0m                                 Traceback (most recent call last)",
      "\u001b[1;32m~\\AppData\\Local\\Temp\\ipykernel_33416\\2652992662.py\u001b[0m in \u001b[0;36m<module>\u001b[1;34m\u001b[0m\n\u001b[1;32m----> 1\u001b[1;33m \u001b[0mtype\u001b[0m\u001b[1;33m(\u001b[0m\u001b[0mx\u001b[0m\u001b[1;33m)\u001b[0m\u001b[1;33m\u001b[0m\u001b[1;33m\u001b[0m\u001b[0m\n\u001b[0m",
      "\u001b[1;31mNameError\u001b[0m: name 'x' is not defined"
     ]
    }
   ],
   "source": [
    "type(x)"
   ]
  },
  {
   "cell_type": "code",
   "execution_count": null,
   "id": "f959099a",
   "metadata": {},
   "outputs": [],
   "source": [
    "#4 Built"
   ]
  }
 ],
 "metadata": {
  "kernelspec": {
   "display_name": "Python 3 (ipykernel)",
   "language": "python",
   "name": "python3"
  },
  "language_info": {
   "codemirror_mode": {
    "name": "ipython",
    "version": 3
   },
   "file_extension": ".py",
   "mimetype": "text/x-python",
   "name": "python",
   "nbconvert_exporter": "python",
   "pygments_lexer": "ipython3",
   "version": "3.9.13"
  }
 },
 "nbformat": 4,
 "nbformat_minor": 5
}
